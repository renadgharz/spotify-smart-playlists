{
 "cells": [
  {
   "cell_type": "code",
   "execution_count": 1,
   "metadata": {},
   "outputs": [],
   "source": [
    "# imports\n",
    "from connection import create_spotify_oauth, get_audio_features, get_token, get_tracks, \\\n",
    "    tracks_to_df, audio_features_to_df, get_artist_info, artist_info_to_df, get_album_info, \\\n",
    "        album_info_to_df, get_similar_artists\n",
    "\n",
    "from itertools import chain\n",
    "\n",
    "import json\n",
    "import re\n",
    "\n",
    "import pandas as pd\n",
    "import numpy as np\n",
    "import matplotlib.pyplot as plt\n",
    "import seaborn as sns"
   ]
  },
  {
   "cell_type": "code",
   "execution_count": 3,
   "metadata": {},
   "outputs": [],
   "source": [
    "# token and authentication variables\n",
    "\n",
    "sp_ouath = create_spotify_oauth()\n",
    "token_info = get_token()"
   ]
  },
  {
   "cell_type": "code",
   "execution_count": 8,
   "metadata": {},
   "outputs": [],
   "source": [
    "# getting playlist items\n",
    "\n",
    "playlist_source = '5tsD40JmH6fgIrguJdJ8tk' # playlist id for playlist\n",
    "\n",
    "# playlists id's to play around with: \n",
    "### 5a4unKpRA7mYi2PAgKTuNW\n",
    "### 7jfRuO7rW49RJnafrxsJeu\n",
    "### 2YWkEfOW4TG0njIeLqFk4B\n",
    "### 02dSgnwgoovYRH6RlptgDC\n",
    "### 5EGXIeHfAZjPh1YeVLyG13\n",
    "### 5tsD40JmH6fgIrguJdJ8tk\n",
    "###\n",
    "\n",
    "tracks = get_tracks(playlist_source, token_info) # parses Spotipy.playlist_items() to fetch playlist items\n",
    "tracks_df = tracks_to_df(tracks) # extracts relevant features from messy list into a df\n",
    "\n",
    "# drops duplicate songs based on track ID, this is useful if a song gets added from single and \n",
    "# album release; or in the case of deluxe versions of albums, etc.\n",
    "tracks_df.drop_duplicates(subset=['track_id'], inplace=True)"
   ]
  },
  {
   "cell_type": "code",
   "execution_count": 9,
   "metadata": {},
   "outputs": [],
   "source": [
    "# getting tracks' features\n",
    "\n",
    "tracks_features = []\n",
    "\n",
    "for track in tracks_df['track_id']:\n",
    "    track_af = get_audio_features(track, token_info) # parses Spotipy.audio_features() to fetch track features\n",
    "    tracks_features.extend(track_af) # extends each track's features into the empty list init'd before\n",
    "    \n",
    "tracks_features_df = audio_features_to_df(tracks_features) # converts nested data from API call to simple df\n"
   ]
  },
  {
   "cell_type": "code",
   "execution_count": 10,
   "metadata": {},
   "outputs": [],
   "source": [
    "# getting tracks' artists\n",
    "\n",
    "tracks_artists = []\n",
    "\n",
    "for artist_id in tracks_df['artist_id']:\n",
    "    for i in artist_id: # since one track can have multiple artists, loop over the list of artists to pull data for each one\n",
    "        artist_info = get_artist_info(i, token_info)\n",
    "        tracks_artists.append(artist_info)\n",
    "\n",
    "artists_df = artist_info_to_df(tracks_artists) # converts nested data to df"
   ]
  },
  {
   "cell_type": "code",
   "execution_count": 12,
   "metadata": {},
   "outputs": [],
   "source": [
    "# getting tracks' albums\n",
    "\n",
    "tracks_albums = []\n",
    "\n",
    "for album_id in tracks_df['album_id']:\n",
    "    album_info = get_album_info(album_id, token_info)\n",
    "    tracks_albums.append(album_info)\n",
    "\n",
    "albums_df = album_info_to_df(tracks_albums) # converts nested data to df"
   ]
  },
  {
   "cell_type": "code",
   "execution_count": 13,
   "metadata": {},
   "outputs": [],
   "source": [
    "# initial tracks processing\n",
    "\n",
    "# merging features df to track df\n",
    "tracks_df.drop(['album_cover_640', 'album_cover_300', 'album_cover_64'], axis=1, inplace=True)\n",
    "tracks_df = pd.merge(tracks_df, tracks_features_df, how='left')\n",
    "\n",
    "# numerical features to plot to determine needed transformations\n",
    "columns_to_plot = ['artist_number', 'song_popularity', 'danceability', 'energy',\n",
    "                'key', 'loudness', 'mode', 'speechiness', 'acousticness', 'instrumentalness',\n",
    "                'liveness', 'valence', 'tempo', 'duration_ms', 'time_signature']"
   ]
  },
  {
   "cell_type": "code",
   "execution_count": null,
   "metadata": {},
   "outputs": [],
   "source": [
    "# histogram visualizations of numerical track_df features\n",
    "\n",
    "num_cols = 3\n",
    "num_rows = len(columns_to_plot) // num_cols + (len(columns_to_plot) % num_cols > 0) \n",
    "\n",
    "plt.figure(figsize=(15, 15))\n",
    "\n",
    "for i, column in enumerate(columns_to_plot, 1):\n",
    "    plt.subplot(num_rows, num_cols, i)\n",
    "    tracks_df[column].plot.hist()\n",
    "    plt.title(column)\n",
    "\n",
    "plt.tight_layout()\n",
    "\n",
    "plt.show()"
   ]
  },
  {
   "cell_type": "code",
   "execution_count": null,
   "metadata": {},
   "outputs": [],
   "source": [
    "# boxplot visualizations of numerical track_df features\n",
    "num_cols = 2\n",
    "num_rows = len(columns_to_plot) // num_cols + (len(columns_to_plot) % num_cols > 0)\n",
    "\n",
    "plt.figure(figsize=(15, 10))\n",
    "\n",
    "for i, column in enumerate(columns_to_plot, 1):\n",
    "    plt.subplot(num_rows, num_cols, i)\n",
    "    sns.boxplot(x=tracks_df[column])\n",
    "    plt.title(f'Box Plot of {column}')\n",
    "\n",
    "plt.tight_layout()\n",
    "\n",
    "plt.show()"
   ]
  },
  {
   "cell_type": "code",
   "execution_count": 14,
   "metadata": {},
   "outputs": [],
   "source": [
    "# more tracks processing\n",
    "\n",
    "# exploding tracks df by artist ids\n",
    "tracks_df = tracks_df.explode('artist_id')"
   ]
  },
  {
   "cell_type": "code",
   "execution_count": 15,
   "metadata": {},
   "outputs": [],
   "source": [
    "# processing artist genres\n",
    "\n",
    "# loop over artist df and check if any genres are missing\n",
    "\n",
    "# lambda converts the columns into strings and strips of the exterior [] and '' using re, then splits the string \n",
    "# into a list based on ','\n",
    "artists_df['artist_genres'] = artists_df['artist_genres'].apply(lambda x: re.sub(r\"[\\[\\]']\", '', str(x)).split(','))\n",
    "\n",
    "# unnest the list of genres into seperate rows, rest of features are duplicated\n",
    "artists_df = artists_df.explode('artist_genres')\n",
    "\n",
    "# creates a copy of artist_df where there are no genres then drops those rows from the original df\n",
    "artists_missing_genres = artists_df.loc[artists_df['artist_genres'] == \"\"].copy()\n",
    "artists_df = artists_df[artists_df['artist_genres'] != '']\n",
    "\n",
    "# check for any artists that have missing genres\n",
    "if not artists_df.loc[artists_df['artist_genres'] == ''].empty:\n",
    "    \n",
    "    # iterates through the rows of the dataframe\n",
    "    for index, artist in artists_missing_genres.iterrows():\n",
    "        artist_id = artist['artist_id']\n",
    "        similar_artists = get_similar_artists(artist_id, token_info) # API call\n",
    "        \n",
    "        # list comprehension that fetches the artist genres for every similar artist    \n",
    "        genres_list = [similar_artist['genres'] for similar_artist in similar_artists if similar_artist['genres']]\n",
    "        \n",
    "    # convert the loop output to list\n",
    "    flattened_genres = list(chain.from_iterable(genres_list))\n",
    "\n",
    "    # converting to set so only unique values remain in list and adding it to the artists_missing_genres df\n",
    "    artists_missing_genres.at[index, 'artist_genres'] = list(set(flattened_genres)) \n",
    "\n",
    "    artists_missing_genres = artists_missing_genres.explode('artist_genres')\n",
    "\n",
    "    # if after imputation, there are still no genres, mark it off as not imputable\n",
    "    artists_missing_genres['artist_genres'].replace('','genre not imputable', inplace=True)\n",
    "\n",
    "    # concat the missing artist genres with the original df\n",
    "    artists_df = pd.concat([artists_df, artists_missing_genres], ignore_index=False)\n",
    "\n",
    "# dropping  duplicate records, this occurs if a playlist has multiple tracks from the same artist\n",
    "artists_df.drop_duplicates(subset=['artist_id', 'artist_genres'], inplace=True)\n",
    "artists_df.reset_index(inplace=True)"
   ]
  },
  {
   "cell_type": "code",
   "execution_count": 18,
   "metadata": {},
   "outputs": [],
   "source": [
    "# creating master dataframe\n",
    "\n",
    "# merge tracks_df and artists_df on 'artist_id'\n",
    "master_df = pd.merge(tracks_df, artists_df, on='artist_id', how='left')\n",
    "\n",
    "# merge the result with album_df on 'album_id'\n",
    "master_df = pd.merge(master_df, albums_df, on='album_id', how='inner')"
   ]
  },
  {
   "cell_type": "code",
   "execution_count": null,
   "metadata": {},
   "outputs": [],
   "source": [
    "## REUSABLE TESTING CODE \n",
    "\n",
    "# with open('all_tracks_albums.json', 'w') as outfile:\n",
    "#     json.dump(all_tracks_albums, outfile, indent=4)\n",
    "\n"
   ]
  }
 ],
 "metadata": {
  "kernelspec": {
   "display_name": "ssp",
   "language": "python",
   "name": "python3"
  },
  "language_info": {
   "codemirror_mode": {
    "name": "ipython",
    "version": 3
   },
   "file_extension": ".py",
   "mimetype": "text/x-python",
   "name": "python",
   "nbconvert_exporter": "python",
   "pygments_lexer": "ipython3",
   "version": "3.11.2"
  },
  "orig_nbformat": 4
 },
 "nbformat": 4,
 "nbformat_minor": 2
}
