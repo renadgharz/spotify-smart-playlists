{
 "cells": [
  {
   "cell_type": "code",
   "execution_count": 1,
   "metadata": {},
   "outputs": [],
   "source": [
    "from connection import create_spotify_oauth, get_token, get_tracks,get_audio_features, tracks_to_df,\\\n",
    "                        audio_features_to_df, get_artist_info, artist_info_to_df, get_album_info, album_info_to_df\n",
    "import json\n",
    "import pandas as pd"
   ]
  },
  {
   "cell_type": "code",
   "execution_count": 2,
   "metadata": {},
   "outputs": [],
   "source": [
    "redirect_uri_string = 'localhost:5000/authorize/'\n",
    "\n",
    "sp_ouath = create_spotify_oauth(redirect_uri_string)\n",
    "token_info = get_token(redirect_uri_string)\n",
    "\n"
   ]
  },
  {
   "cell_type": "code",
   "execution_count": 3,
   "metadata": {},
   "outputs": [],
   "source": [
    "sources = ['5Gyrx7J2IbbQXbbKwa8bca', '04j5JZf6upQSeYnWmcNKrH', '5C9mrfuuQjE6KbceQfGhkj']\n",
    "all_tracks = []\n",
    "\n",
    "for source in sources:\n",
    "   track = get_tracks(source, token_info)\n",
    "   all_tracks.extend(track['items'])\n",
    "\n",
    "all_tracks_df = tracks_to_df(all_tracks)"
   ]
  },
  {
   "cell_type": "code",
   "execution_count": 4,
   "metadata": {},
   "outputs": [],
   "source": [
    "all_tracks_features = []\n",
    "\n",
    "for track in all_tracks_df['track_id']:\n",
    "    track_af = get_audio_features(track, token_info)\n",
    "    all_tracks_features.extend(track_af)\n",
    "\n",
    "all_tracks_features_df = audio_features_to_df(all_tracks_features)"
   ]
  },
  {
   "cell_type": "code",
   "execution_count": 5,
   "metadata": {},
   "outputs": [],
   "source": [
    "all_tracks_artists = []\n",
    "\n",
    "for artist_id in all_tracks_df['artist_id']:\n",
    "    for i in artist_id:\n",
    "        artist_info = get_artist_info(i, token_info)\n",
    "        all_tracks_artists.append(artist_info)\n",
    "\n",
    "all_tracks_artists_df = artist_info_to_df(all_tracks_artists)"
   ]
  },
  {
   "cell_type": "code",
   "execution_count": 6,
   "metadata": {},
   "outputs": [],
   "source": [
    "all_tracks_albums = []\n",
    "\n",
    "for album_id in all_tracks_df['album_id']:\n",
    "    album_info = get_album_info(album_id, token_info)\n",
    "    all_tracks_albums.append(album_info)\n",
    "\n",
    "with open('all_tracks_albums.json', 'w') as outfile:\n",
    "    json.dump(all_tracks_albums, outfile, indent=4)\n",
    "\n",
    "all_tracks_albums_df = album_info_to_df(all_tracks_albums)"
   ]
  }
 ],
 "metadata": {
  "kernelspec": {
   "display_name": "ssp",
   "language": "python",
   "name": "python3"
  },
  "language_info": {
   "codemirror_mode": {
    "name": "ipython",
    "version": 3
   },
   "file_extension": ".py",
   "mimetype": "text/x-python",
   "name": "python",
   "nbconvert_exporter": "python",
   "pygments_lexer": "ipython3",
   "version": "3.11.2"
  },
  "orig_nbformat": 4
 },
 "nbformat": 4,
 "nbformat_minor": 2
}
