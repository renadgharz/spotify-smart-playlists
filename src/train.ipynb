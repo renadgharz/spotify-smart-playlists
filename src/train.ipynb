{
 "cells": [
  {
   "cell_type": "code",
   "execution_count": null,
   "metadata": {},
   "outputs": [],
   "source": [
    "# imports\n",
    "from connection import create_spotify_oauth, get_audio_features, get_token, get_tracks, \\\n",
    "    tracks_to_df, audio_features_to_df, get_artist_info, artist_info_to_df, get_album_info, \\\n",
    "        album_info_to_df, get_similar_artists\n",
    "\n",
    "from ast import literal_eval\n",
    "\n",
    "import json\n",
    "\n",
    "import pandas as pd\n",
    "import numpy as np"
   ]
  },
  {
   "cell_type": "code",
   "execution_count": null,
   "metadata": {},
   "outputs": [],
   "source": [
    "# token and authentication variables\n",
    "\n",
    "sp_ouath = create_spotify_oauth()\n",
    "token_info = get_token()"
   ]
  },
  {
   "cell_type": "code",
   "execution_count": null,
   "metadata": {},
   "outputs": [],
   "source": [
    "# getting playlist items\n",
    "\n",
    "playlist_source = '5a4unKpRA7mYi2PAgKTuNW' # playlist id for playlist\n",
    "\n",
    "tracks = get_tracks(playlist_source, token_info) # parses Spotipy.playlist_items() to fetch playlist items\n",
    "tracks_df = tracks_to_df(tracks) # extracts relevant features from messy list into a df\n",
    "\n",
    "tracks_df.drop_duplicates(subset=['track_id'], inplace=True) # drops duplicate songs based on track ID, this is useful\n",
    "# if a song gets added from single and album release; or in the case of deluxe versions of albums, etc.\n"
   ]
  },
  {
   "cell_type": "code",
   "execution_count": null,
   "metadata": {},
   "outputs": [],
   "source": [
    "# getting tracks' features\n",
    "\n",
    "tracks_features = []\n",
    "\n",
    "for track in tracks_df['track_id']:\n",
    "    track_af = get_audio_features(track, token_info) # parses Spotipy.audio_features() to fetch track features\n",
    "    tracks_features.extend(track_af) # extends each track's features into the empty list init'd before\n",
    "    \n",
    "tracks_features_df = audio_features_to_df(tracks_features) # converts nested data from API call to simple df\n"
   ]
  },
  {
   "cell_type": "code",
   "execution_count": null,
   "metadata": {},
   "outputs": [],
   "source": [
    "# getting tracks' artists\n",
    "\n",
    "tracks_artists = []\n",
    "\n",
    "for artist_id in tracks_df['artist_id']:\n",
    "    for i in artist_id: # since one track can have multiple artists, loop over the list of artists to pull data for each one\n",
    "        artist_info = get_artist_info(i, token_info)\n",
    "        tracks_artists.append(artist_info)\n",
    "\n",
    "artists_df = artist_info_to_df(tracks_artists) # converts nested data to df"
   ]
  },
  {
   "cell_type": "code",
   "execution_count": null,
   "metadata": {},
   "outputs": [],
   "source": [
    "# getting tracks' albums\n",
    "\n",
    "tracks_albums = []\n",
    "\n",
    "for album_id in tracks_df['album_id']:\n",
    "    album_info = get_album_info(album_id, token_info)\n",
    "    tracks_albums.append(album_info)\n",
    "\n",
    "# with open('all_tracks_albums.json', 'w') as outfile:\n",
    "#     json.dump(all_tracks_albums, outfile, indent=4)\n",
    "\n",
    "albums_df = album_info_to_df(tracks_albums) # converts nested data to df"
   ]
  },
  {
   "cell_type": "code",
   "execution_count": null,
   "metadata": {},
   "outputs": [],
   "source": [
    "# transforming artist genres\n",
    "\n",
    "# lambda converts the columns into strings and strips of the exterior [], then splits the string into a list based on ','\n",
    "artists_df['artist_genres'] = artists_df['artist_genres'].apply(lambda x: str(x).strip('[]').split(','))\n",
    "\n",
    "# unnest the list of genres into seperate, rest of features are duplicated\n",
    "artists_df = artists_df.explode('artist_genres')\n",
    "artists_df.reset_index(inplace=True)"
   ]
  },
  {
   "cell_type": "code",
   "execution_count": null,
   "metadata": {},
   "outputs": [],
   "source": []
  },
  {
   "cell_type": "code",
   "execution_count": null,
   "metadata": {},
   "outputs": [],
   "source": []
  }
 ],
 "metadata": {
  "kernelspec": {
   "display_name": "ssp",
   "language": "python",
   "name": "python3"
  },
  "language_info": {
   "codemirror_mode": {
    "name": "ipython",
    "version": 3
   },
   "file_extension": ".py",
   "mimetype": "text/x-python",
   "name": "python",
   "nbconvert_exporter": "python",
   "pygments_lexer": "ipython3",
   "version": "3.11.2"
  },
  "orig_nbformat": 4
 },
 "nbformat": 4,
 "nbformat_minor": 2
}
