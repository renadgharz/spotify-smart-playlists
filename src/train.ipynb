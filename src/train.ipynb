{
 "cells": [
  {
   "cell_type": "code",
   "execution_count": 1,
   "metadata": {},
   "outputs": [],
   "source": [
    "from connection import create_spotify_oauth, get_token, sp_get_tracks, sp_get_audio_features, sp_get_audio_analysis\n",
    "import json\n",
    "import pandas as pd"
   ]
  },
  {
   "cell_type": "code",
   "execution_count": 2,
   "metadata": {},
   "outputs": [],
   "source": [
    "sp_ouath = create_spotify_oauth(redirect_uri='localhost:5000/authorize/')\n",
    "token_info = get_token()\n",
    "\n",
    "sources = ['5Gyrx7J2IbbQXbbKwa8bca', '04j5JZf6upQSeYnWmcNKrH', '5C9mrfuuQjE6KbceQfGhkj']\n",
    "all_tracks = []\n",
    "\n",
    "for source in sources:\n",
    "   tracks = sp_get_tracks(source, token_info)\n",
    "   all_tracks.extend(tracks['items'])\n"
   ]
  },
  {
   "cell_type": "code",
   "execution_count": 3,
   "metadata": {},
   "outputs": [],
   "source": [
    "def json_response_to_df(tracks):\n",
    "    data = []\n",
    "    \n",
    "    for track in tracks:\n",
    "        d = {\n",
    "            'track_id': track['track']['id'],\n",
    "            'track_name': track['track']['name'],\n",
    "            'album_id': track['track']['album']['id'],\n",
    "            'album_name': track['track']['album']['name'],\n",
    "            'album_date': track['track']['album']['release_date'],\n",
    "            'artist_ids': [artist['id'] for artist in track['track']['album']['artists']],\n",
    "            'artist_names': [artist['name'] for artist in track['track']['album']['artists']],\n",
    "            'artist_number': len(track['track']['album']['artists'][0:]),\n",
    "            'duration_ms': track['track']['duration_ms'],\n",
    "            'explicit': track['track']['explicit'],\n",
    "            'popularity': track['track']['popularity'],\n",
    "            'preview_url': track['track']['preview_url'],\n",
    "            'album_cover_640': track['track']['album']['images'][0]['url'],\n",
    "            'album_cover_300': track['track']['album']['images'][1]['url'],\n",
    "            'album_cover_64': track['track']['album']['images'][2]['url'],\n",
    "        }\n",
    "        \n",
    "        data.append(d)\n",
    "    \n",
    "    return pd.DataFrame(data)\n",
    "\n",
    "all_tracks_df = json_response_to_df(all_tracks)\n"
   ]
  },
  {
   "cell_type": "code",
   "execution_count": 7,
   "metadata": {},
   "outputs": [],
   "source": [
    "def get_audio_features(track_ids):\n",
    "\n",
    "    track_ids = track_ids.to_string(index=False).split('\\n')\n",
    "\n",
    "    all_tracks_features = []\n",
    "    \n",
    "    for track_id in track_ids:\n",
    "        track_af = sp_get_audio_features(track_id, token_info)\n",
    "        all_tracks_features.extend(track_af)\n",
    "        \n",
    "    return pd.DataFrame(all_tracks_features)\n",
    "\n",
    "all_tracks_features_df = get_audio_features(all_tracks_df['track_id'])"
   ]
  },
  {
   "cell_type": "code",
   "execution_count": 5,
   "metadata": {},
   "outputs": [],
   "source": [
    "# with open('all_tracks.json', 'w') as json_file:\n",
    "#     json.dump(all_tracks, json_file, indent=4)"
   ]
  },
  {
   "cell_type": "code",
   "execution_count": null,
   "metadata": {},
   "outputs": [],
   "source": []
  }
 ],
 "metadata": {
  "kernelspec": {
   "display_name": "ssp",
   "language": "python",
   "name": "python3"
  },
  "language_info": {
   "codemirror_mode": {
    "name": "ipython",
    "version": 3
   },
   "file_extension": ".py",
   "mimetype": "text/x-python",
   "name": "python",
   "nbconvert_exporter": "python",
   "pygments_lexer": "ipython3",
   "version": "3.11.2"
  },
  "orig_nbformat": 4
 },
 "nbformat": 4,
 "nbformat_minor": 2
}
