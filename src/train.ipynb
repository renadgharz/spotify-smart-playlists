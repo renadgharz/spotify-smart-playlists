{
 "cells": [
  {
   "cell_type": "code",
   "execution_count": 1,
   "metadata": {},
   "outputs": [],
   "source": [
    "# imports\n",
    "from connection import create_spotify_oauth, get_audio_features, get_token, get_tracks, \\\n",
    "    tracks_to_df, audio_features_to_df, get_artist_info, artist_info_to_df, get_album_info, \\\n",
    "        album_info_to_df, get_similar_artists\n",
    "\n",
    "from collections import Counter\n",
    "from itertools import chain\n",
    "\n",
    "import json\n",
    "\n",
    "import pandas as pd\n",
    "import numpy as np"
   ]
  },
  {
   "cell_type": "code",
   "execution_count": 2,
   "metadata": {},
   "outputs": [],
   "source": [
    "# token and authentication variables\n",
    "\n",
    "sp_ouath = create_spotify_oauth()\n",
    "token_info = get_token()"
   ]
  },
  {
   "cell_type": "code",
   "execution_count": 3,
   "metadata": {},
   "outputs": [],
   "source": [
    "# getting playlist items\n",
    "\n",
    "playlist_source = '7jfRuO7rW49RJnafrxsJeu' # playlist id for playlist\n",
    "\n",
    "# playlists id's to play around with: \n",
    "### 5a4unKpRA7mYi2PAgKTuNW\n",
    "### 7jfRuO7rW49RJnafrxsJeu\n",
    "\n",
    "tracks = get_tracks(playlist_source, token_info) # parses Spotipy.playlist_items() to fetch playlist items\n",
    "tracks_df = tracks_to_df(tracks) # extracts relevant features from messy list into a df\n",
    "\n",
    "tracks_df.drop_duplicates(subset=['track_id'], inplace=True) # drops duplicate songs based on track ID, this is useful\n",
    "# if a song gets added from single and album release; or in the case of deluxe versions of albums, etc.\n"
   ]
  },
  {
   "cell_type": "code",
   "execution_count": 4,
   "metadata": {},
   "outputs": [],
   "source": [
    "# getting tracks' features\n",
    "\n",
    "tracks_features = []\n",
    "\n",
    "for track in tracks_df['track_id']:\n",
    "    track_af = get_audio_features(track, token_info) # parses Spotipy.audio_features() to fetch track features\n",
    "    tracks_features.extend(track_af) # extends each track's features into the empty list init'd before\n",
    "    \n",
    "tracks_features_df = audio_features_to_df(tracks_features) # converts nested data from API call to simple df\n"
   ]
  },
  {
   "cell_type": "code",
   "execution_count": 43,
   "metadata": {},
   "outputs": [],
   "source": [
    "# getting tracks' artists\n",
    "\n",
    "tracks_artists = []\n",
    "\n",
    "for artist_id in tracks_df['artist_id']:\n",
    "    for i in artist_id: # since one track can have multiple artists, loop over the list of artists to pull data for each one\n",
    "        artist_info = get_artist_info(i, token_info)\n",
    "        tracks_artists.append(artist_info)\n",
    "\n",
    "artists_df = artist_info_to_df(tracks_artists) # converts nested data to df"
   ]
  },
  {
   "cell_type": "code",
   "execution_count": 6,
   "metadata": {},
   "outputs": [],
   "source": [
    "# getting tracks' albums\n",
    "\n",
    "tracks_albums = []\n",
    "\n",
    "for album_id in tracks_df['album_id']:\n",
    "    album_info = get_album_info(album_id, token_info)\n",
    "    tracks_albums.append(album_info)\n",
    "\n",
    "albums_df = album_info_to_df(tracks_albums) # converts nested data to df"
   ]
  },
  {
   "cell_type": "code",
   "execution_count": 46,
   "metadata": {},
   "outputs": [],
   "source": [
    "# transforming artist genres\n",
    "\n",
    "# lambda converts the columns into strings and strips of the exterior [], then splits the string into a list based on ','\n",
    "artists_df['artist_genres'] = artists_df['artist_genres'].apply(lambda x: str(x).strip('[]').split(','))\n",
    "\n",
    "# unnest the list of genres into seperate, rest of features are duplicated\n",
    "artists_df = artists_df.explode('artist_genres')\n",
    "# artists_df.reset_index(inplace=True)"
   ]
  },
  {
   "cell_type": "code",
   "execution_count": 49,
   "metadata": {},
   "outputs": [
    {
     "name": "stdout",
     "output_type": "stream",
     "text": [
      "Counter({'bedroom r&b': 1, 'modern indie pop': 1, 'pov: indie': 1})\n",
      "Counter({'bedroom r&b': 11, 'korean dream pop': 2, 'korean city pop': 2, 'korean indie rock': 1, 'modern dream pop': 1, 'modern indie pop': 1})\n"
     ]
    }
   ],
   "source": [
    "artists_missing_genres = artists_df.loc[artists_df['artist_genres'] == \"\"].copy()\n",
    "artists_missing_genres['genres_list'] = None\n",
    "\n",
    "for index, artist in artists_missing_genres.iterrows():\n",
    "    artist_id = artist['artist_id']\n",
    "    similar_artists = get_similar_artists(artist_id, token_info)\n",
    "    \n",
    "    genres_list = [artist['genres'] for artist in similar_artists if artist['genres']]\n",
    "    \n",
    "    if genres_list:\n",
    "        flattened_genres = list(chain.from_iterable(genres_list))\n",
    "        artists_missing_genres.at[index, 'genres_list'] = flattened_genres\n",
    "        \n",
    "        print(Counter(flattened_genres))"
   ]
  },
  {
   "cell_type": "code",
   "execution_count": null,
   "metadata": {},
   "outputs": [],
   "source": [
    "## REUSABLE TESTING CODE \n",
    "\n",
    "# with open('all_tracks_albums.json', 'w') as outfile:\n",
    "#     json.dump(all_tracks_albums, outfile, indent=4)\n",
    "\n"
   ]
  }
 ],
 "metadata": {
  "kernelspec": {
   "display_name": "ssp",
   "language": "python",
   "name": "python3"
  },
  "language_info": {
   "codemirror_mode": {
    "name": "ipython",
    "version": 3
   },
   "file_extension": ".py",
   "mimetype": "text/x-python",
   "name": "python",
   "nbconvert_exporter": "python",
   "pygments_lexer": "ipython3",
   "version": "3.11.2"
  },
  "orig_nbformat": 4
 },
 "nbformat": 4,
 "nbformat_minor": 2
}
