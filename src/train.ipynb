{
 "cells": [
  {
   "cell_type": "code",
   "execution_count": 1,
   "metadata": {},
   "outputs": [],
   "source": [
    "from connection import create_spotify_oauth, get_token, get_tracks, get_audio_features, get_audio_analysis, get_tracks_to_df\n",
    "import json\n",
    "import pandas as pd"
   ]
  },
  {
   "cell_type": "code",
   "execution_count": 18,
   "metadata": {},
   "outputs": [],
   "source": [
    "sp_ouath = create_spotify_oauth(redirect_uri='localhost:5000/authorize/')\n",
    "token_info = get_token()\n",
    "\n",
    "sources = ['5Gyrx7J2IbbQXbbKwa8bca', '04j5JZf6upQSeYnWmcNKrH', '5C9mrfuuQjE6KbceQfGhkj']\n"
   ]
  },
  {
   "cell_type": "code",
   "execution_count": 5,
   "metadata": {},
   "outputs": [],
   "source": [
    "all_tracks = []\n",
    "all_tracks_features = []\n",
    "all_tracks_analysis = []\n",
    "\n",
    "for source in sources:\n",
    "   track = get_tracks(source, token_info)\n",
    "   all_tracks.extend(track['items'])\n",
    "\n",
    "all_tracks_df = get_tracks_to_df(all_tracks)\n",
    "\n",
    "for track in all_tracks_df['track_id']:\n",
    "    track_af = get_audio_features(track, token_info)\n",
    "    all_tracks_features.append(track_af)\n",
    "\n",
    "for track in all_tracks_df['track_id']:\n",
    "    track_aa = get_audio_analysis(track, token_info)\n",
    "    all_tracks_analysis.append(track_aa)\n",
    "\n"
   ]
  },
  {
   "cell_type": "code",
   "execution_count": null,
   "metadata": {},
   "outputs": [],
   "source": []
  }
 ],
 "metadata": {
  "kernelspec": {
   "display_name": "ssp",
   "language": "python",
   "name": "python3"
  },
  "language_info": {
   "codemirror_mode": {
    "name": "ipython",
    "version": 3
   },
   "file_extension": ".py",
   "mimetype": "text/x-python",
   "name": "python",
   "nbconvert_exporter": "python",
   "pygments_lexer": "ipython3",
   "version": "3.11.2"
  },
  "orig_nbformat": 4
 },
 "nbformat": 4,
 "nbformat_minor": 2
}
